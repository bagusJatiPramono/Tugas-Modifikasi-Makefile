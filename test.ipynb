{
 "cells": [
  {
   "cell_type": "code",
   "execution_count": 3,
   "metadata": {},
   "outputs": [],
   "source": [
    "from sklearn.datasets import load_iris\n",
    "\n",
    "dataset = load_iris()"
   ]
  },
  {
   "cell_type": "code",
   "execution_count": 7,
   "metadata": {},
   "outputs": [],
   "source": [
    "X = dataset.data\n",
    "y = dataset.target"
   ]
  },
  {
   "cell_type": "code",
   "execution_count": 14,
   "metadata": {},
   "outputs": [],
   "source": [
    "from sklearn.model_selection import train_test_split\n",
    "# train_test_split()\n",
    "test_data,train_data,test_label,train_label = train_test_split(X,y,test_size=0.8)"
   ]
  },
  {
   "cell_type": "code",
   "execution_count": 17,
   "metadata": {},
   "outputs": [
    {
     "data": {
      "text/plain": [
       "array([[5.5, 2.4, 3.8, 1.1],\n",
       "       [5.2, 2.7, 3.9, 1.4],\n",
       "       [5.1, 3.7, 1.5, 0.4],\n",
       "       [6.9, 3.1, 5.1, 2.3],\n",
       "       [6.7, 3. , 5. , 1.7],\n",
       "       [5.2, 3.5, 1.5, 0.2],\n",
       "       [6.3, 2.3, 4.4, 1.3],\n",
       "       [7.7, 3. , 6.1, 2.3],\n",
       "       [5.1, 3.5, 1.4, 0.3],\n",
       "       [6. , 3.4, 4.5, 1.6],\n",
       "       [6.4, 3.2, 5.3, 2.3],\n",
       "       [4.8, 3.1, 1.6, 0.2],\n",
       "       [5. , 3.2, 1.2, 0.2],\n",
       "       [5.6, 3. , 4.1, 1.3],\n",
       "       [5.7, 2.8, 4.5, 1.3],\n",
       "       [6.2, 3.4, 5.4, 2.3],\n",
       "       [4.6, 3.2, 1.4, 0.2],\n",
       "       [5.8, 2.7, 5.1, 1.9],\n",
       "       [6.9, 3.1, 4.9, 1.5],\n",
       "       [6.4, 3.2, 4.5, 1.5],\n",
       "       [6.7, 3.3, 5.7, 2.1],\n",
       "       [7.7, 2.8, 6.7, 2. ],\n",
       "       [5.1, 3.8, 1.9, 0.4],\n",
       "       [5. , 2.3, 3.3, 1. ],\n",
       "       [5.5, 2.6, 4.4, 1.2],\n",
       "       [7.3, 2.9, 6.3, 1.8],\n",
       "       [6.1, 2.8, 4. , 1.3],\n",
       "       [5.8, 2.8, 5.1, 2.4],\n",
       "       [6.2, 2.2, 4.5, 1.5],\n",
       "       [4.9, 3.1, 1.5, 0.2],\n",
       "       [5.1, 3.3, 1.7, 0.5],\n",
       "       [5.3, 3.7, 1.5, 0.2],\n",
       "       [6.3, 2.5, 5. , 1.9],\n",
       "       [5.7, 2.9, 4.2, 1.3],\n",
       "       [5. , 3.6, 1.4, 0.2],\n",
       "       [6.5, 3. , 5.8, 2.2],\n",
       "       [5. , 3.4, 1.6, 0.4],\n",
       "       [5.9, 3.2, 4.8, 1.8],\n",
       "       [5.7, 4.4, 1.5, 0.4],\n",
       "       [4.8, 3.4, 1.6, 0.2],\n",
       "       [6.2, 2.8, 4.8, 1.8],\n",
       "       [6.3, 2.9, 5.6, 1.8],\n",
       "       [5. , 3.5, 1.3, 0.3],\n",
       "       [5.6, 2.7, 4.2, 1.3],\n",
       "       [4.7, 3.2, 1.3, 0.2],\n",
       "       [5.4, 3.9, 1.7, 0.4],\n",
       "       [5. , 3.3, 1.4, 0.2],\n",
       "       [6.6, 2.9, 4.6, 1.3],\n",
       "       [5.8, 2.7, 4.1, 1. ],\n",
       "       [5.1, 3.8, 1.5, 0.3],\n",
       "       [6.1, 3. , 4.9, 1.8],\n",
       "       [6.5, 2.8, 4.6, 1.5],\n",
       "       [5.6, 2.9, 3.6, 1.3],\n",
       "       [4.8, 3. , 1.4, 0.1],\n",
       "       [5.5, 4.2, 1.4, 0.2],\n",
       "       [5.7, 2.8, 4.1, 1.3],\n",
       "       [4.9, 3. , 1.4, 0.2],\n",
       "       [5.8, 2.6, 4. , 1.2],\n",
       "       [5.1, 3.5, 1.4, 0.2],\n",
       "       [5.1, 2.5, 3. , 1.1],\n",
       "       [7.7, 3.8, 6.7, 2.2],\n",
       "       [6.4, 3.1, 5.5, 1.8],\n",
       "       [5.1, 3.4, 1.5, 0.2],\n",
       "       [7.6, 3. , 6.6, 2.1],\n",
       "       [6. , 3. , 4.8, 1.8],\n",
       "       [5.5, 2.3, 4. , 1.3],\n",
       "       [6. , 2.7, 5.1, 1.6],\n",
       "       [5.4, 3.4, 1.5, 0.4],\n",
       "       [4.6, 3.6, 1. , 0.2],\n",
       "       [4.8, 3. , 1.4, 0.3],\n",
       "       [7.9, 3.8, 6.4, 2. ],\n",
       "       [4.5, 2.3, 1.3, 0.3],\n",
       "       [6.7, 2.5, 5.8, 1.8],\n",
       "       [5. , 3.5, 1.6, 0.6],\n",
       "       [5.8, 4. , 1.2, 0.2],\n",
       "       [5.7, 3.8, 1.7, 0.3],\n",
       "       [4.9, 3.1, 1.5, 0.1],\n",
       "       [6.8, 2.8, 4.8, 1.4],\n",
       "       [4.3, 3. , 1.1, 0.1],\n",
       "       [5. , 2. , 3.5, 1. ],\n",
       "       [6.3, 2.8, 5.1, 1.5],\n",
       "       [6.1, 3. , 4.6, 1.4],\n",
       "       [7.2, 3.2, 6. , 1.8],\n",
       "       [6.4, 2.9, 4.3, 1.3],\n",
       "       [5.2, 4.1, 1.5, 0.1],\n",
       "       [6.9, 3.1, 5.4, 2.1],\n",
       "       [5.4, 3.4, 1.7, 0.2],\n",
       "       [7. , 3.2, 4.7, 1.4],\n",
       "       [6.3, 2.5, 4.9, 1.5],\n",
       "       [5.7, 3. , 4.2, 1.2],\n",
       "       [6.6, 3. , 4.4, 1.4],\n",
       "       [5.1, 3.8, 1.6, 0.2],\n",
       "       [5.8, 2.7, 5.1, 1.9],\n",
       "       [5.7, 2.6, 3.5, 1. ],\n",
       "       [5.6, 2.5, 3.9, 1.1],\n",
       "       [4.9, 3.6, 1.4, 0.1],\n",
       "       [5.5, 2.4, 3.7, 1. ],\n",
       "       [6.7, 3. , 5.2, 2.3],\n",
       "       [4.4, 3.2, 1.3, 0.2],\n",
       "       [6.3, 3.4, 5.6, 2.4],\n",
       "       [5.2, 3.4, 1.4, 0.2],\n",
       "       [5.5, 3.5, 1.3, 0.2],\n",
       "       [5.8, 2.7, 3.9, 1.2],\n",
       "       [6.5, 3. , 5.2, 2. ],\n",
       "       [4.9, 2.4, 3.3, 1. ],\n",
       "       [5.9, 3. , 5.1, 1.8],\n",
       "       [6.4, 2.8, 5.6, 2.2],\n",
       "       [5. , 3. , 1.6, 0.2],\n",
       "       [5.4, 3.7, 1.5, 0.2],\n",
       "       [7.4, 2.8, 6.1, 1.9],\n",
       "       [6.4, 2.7, 5.3, 1.9],\n",
       "       [6.7, 3.1, 5.6, 2.4],\n",
       "       [5.5, 2.5, 4. , 1.3],\n",
       "       [6.5, 3.2, 5.1, 2. ],\n",
       "       [4.4, 3. , 1.3, 0.2],\n",
       "       [6. , 2.2, 4. , 1. ],\n",
       "       [4.9, 2.5, 4.5, 1.7],\n",
       "       [6.8, 3.2, 5.9, 2.3],\n",
       "       [4.7, 3.2, 1.6, 0.2],\n",
       "       [7.1, 3. , 5.9, 2.1]])"
      ]
     },
     "execution_count": 17,
     "metadata": {},
     "output_type": "execute_result"
    }
   ],
   "source": [
    "train_data"
   ]
  },
  {
   "cell_type": "code",
   "execution_count": null,
   "metadata": {},
   "outputs": [],
   "source": [
    "from sklearn.tree import DecisionTreeClassifier\n",
    "\n",
    "model = DecisionTreeClassifier()"
   ]
  },
  {
   "cell_type": "code",
   "execution_count": 2,
   "metadata": {},
   "outputs": [
    {
     "ename": "NameError",
     "evalue": "name 'dataset' is not defined",
     "output_type": "error",
     "traceback": [
      "\u001b[1;31m---------------------------------------------------------------------------\u001b[0m",
      "\u001b[1;31mNameError\u001b[0m                                 Traceback (most recent call last)",
      "Cell \u001b[1;32mIn[2], line 3\u001b[0m\n\u001b[0;32m      1\u001b[0m \u001b[38;5;28;01mfrom\u001b[39;00m \u001b[38;5;21;01msklearn\u001b[39;00m\u001b[38;5;21;01m.\u001b[39;00m\u001b[38;5;21;01mmodel_selection\u001b[39;00m \u001b[38;5;28;01mimport\u001b[39;00m train_test_split\n\u001b[0;32m      2\u001b[0m \u001b[38;5;28;01mfrom\u001b[39;00m \u001b[38;5;21;01msklearn\u001b[39;00m\u001b[38;5;21;01m.\u001b[39;00m\u001b[38;5;21;01mtree\u001b[39;00m \u001b[38;5;28;01mimport\u001b[39;00m DecisionTreeClassifier\n\u001b[1;32m----> 3\u001b[0m train_data, test_data \u001b[38;5;241m=\u001b[39m train_test_split(\u001b[43mdataset\u001b[49m,\u001b[38;5;241m0.8\u001b[39m)\n\u001b[0;32m      4\u001b[0m model \u001b[38;5;241m=\u001b[39m DecisionTreeClassifier()\n\u001b[0;32m      5\u001b[0m model\u001b[38;5;241m.\u001b[39mfit(train_data)\n",
      "\u001b[1;31mNameError\u001b[0m: name 'dataset' is not defined"
     ]
    }
   ],
   "source": [
    "from sklearn.model_selection import train_test_split\n",
    "from sklearn.tree import DecisionTreeClassifier\n",
    "test_data,train_data,test_label,train_label = train_test_split(X,y,test_size=0.8)\n",
    "model = DecisionTreeClassifier()\n",
    "model.fit(train_data)"
   ]
  },
  {
   "cell_type": "code",
   "execution_count": 2,
   "metadata": {},
   "outputs": [],
   "source": [
    "import pickle\n",
    "my_object={'name':\"hello\",\n",
    "           'age': 12}\n",
    "with open('my_object.pickle', 'wb') as file:\n",
    "    pickle.dump(my_object, file)"
   ]
  }
 ],
 "metadata": {
  "kernelspec": {
   "display_name": "Python 3",
   "language": "python",
   "name": "python3"
  },
  "language_info": {
   "codemirror_mode": {
    "name": "ipython",
    "version": 3
   },
   "file_extension": ".py",
   "mimetype": "text/x-python",
   "name": "python",
   "nbconvert_exporter": "python",
   "pygments_lexer": "ipython3",
   "version": "3.12.5"
  }
 },
 "nbformat": 4,
 "nbformat_minor": 2
}
